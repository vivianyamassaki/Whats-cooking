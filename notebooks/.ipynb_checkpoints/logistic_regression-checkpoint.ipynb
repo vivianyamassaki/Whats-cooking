{
 "cells": [
  {
   "cell_type": "markdown",
   "metadata": {},
   "source": [
    "# Feature Engineering"
   ]
  },
  {
   "cell_type": "markdown",
   "metadata": {},
   "source": [
    "Este notebook contém a feature engineering dos conjuntos de dados de treino e teste, que serão realizados com base na EDA realizada anteriormente.\n",
    "\n",
    "Ao final desse notebook, serão gerados dois conjuntos de dados de treino e teste processados e que serão fornecidos para o modelo classificador."
   ]
  },
  {
   "cell_type": "markdown",
   "metadata": {},
   "source": [
    "### Imports"
   ]
  },
  {
   "cell_type": "markdown",
   "metadata": {},
   "source": [
    "#### Importação das bibliotecas utilizadas"
   ]
  },
  {
   "cell_type": "code",
   "execution_count": 1,
   "metadata": {},
   "outputs": [],
   "source": [
    "import pandas as pd\n",
    "import json\n",
    "import re\n",
    "from nltk.corpus import stopwords\n",
    "from nltk.stem import WordNetLemmatizer\n",
    "from nltk import word_tokenize as TK\n",
    "\n",
    "from sklearn.preprocessing import StandardScaler\n",
    "from sklearn.pipeline import make_pipeline\n",
    "from sklearn.preprocessing import FunctionTransformer, LabelEncoder\n",
    "from sklearn.feature_extraction.text import TfidfVectorizer"
   ]
  },
  {
   "cell_type": "markdown",
   "metadata": {},
   "source": [
    "#### Importação do conjunto de treinamento e teste"
   ]
  },
  {
   "cell_type": "markdown",
   "metadata": {},
   "source": [
    "O conjuntos de treinamento e de teste estão em formato JSON, portando é necessário usar a função __read_json__ do pandas para realizar a leitura dos arquivos:"
   ]
  },
  {
   "cell_type": "code",
   "execution_count": 2,
   "metadata": {},
   "outputs": [],
   "source": [
    "train = pd.read_json('../dados/train.json', encoding='utf-8')\n",
    "test = pd.read_json('../dados/test.json', encoding='utf-8')"
   ]
  },
  {
   "cell_type": "code",
   "execution_count": 3,
   "metadata": {},
   "outputs": [
    {
     "name": "stdout",
     "output_type": "stream",
     "text": [
      "O conjunto de treinamento possui 39774 exemplos, cada qual representando uma receita, e 3 colunas, que são as seguintes:\n"
     ]
    }
   ],
   "source": [
    "print(f\"O conjunto de treinamento possui {train.shape[0]} exemplos, cada qual representando uma receita, e \\\n",
    "{train.shape[1]} colunas, que são as seguintes:\") "
   ]
  },
  {
   "cell_type": "markdown",
   "metadata": {},
   "source": [
    "* **cuisine**: tipo de culinária da qual a receita pertence. Essa é a variável resposta (a classe que o modelo a ser criado deve prever)\n",
    "* **id**: número identificador único da receita\n",
    "* **ingredients**: lista de ingredientes que compõem a receita"
   ]
  },
  {
   "cell_type": "code",
   "execution_count": 4,
   "metadata": {},
   "outputs": [
    {
     "data": {
      "text/html": [
       "<div>\n",
       "<style scoped>\n",
       "    .dataframe tbody tr th:only-of-type {\n",
       "        vertical-align: middle;\n",
       "    }\n",
       "\n",
       "    .dataframe tbody tr th {\n",
       "        vertical-align: top;\n",
       "    }\n",
       "\n",
       "    .dataframe thead th {\n",
       "        text-align: right;\n",
       "    }\n",
       "</style>\n",
       "<table border=\"1\" class=\"dataframe\">\n",
       "  <thead>\n",
       "    <tr style=\"text-align: right;\">\n",
       "      <th></th>\n",
       "      <th>cuisine</th>\n",
       "      <th>id</th>\n",
       "      <th>ingredients</th>\n",
       "    </tr>\n",
       "  </thead>\n",
       "  <tbody>\n",
       "    <tr>\n",
       "      <th>0</th>\n",
       "      <td>greek</td>\n",
       "      <td>10259</td>\n",
       "      <td>[romaine lettuce, black olives, grape tomatoes...</td>\n",
       "    </tr>\n",
       "    <tr>\n",
       "      <th>1</th>\n",
       "      <td>southern_us</td>\n",
       "      <td>25693</td>\n",
       "      <td>[plain flour, ground pepper, salt, tomatoes, g...</td>\n",
       "    </tr>\n",
       "    <tr>\n",
       "      <th>2</th>\n",
       "      <td>filipino</td>\n",
       "      <td>20130</td>\n",
       "      <td>[eggs, pepper, salt, mayonaise, cooking oil, g...</td>\n",
       "    </tr>\n",
       "    <tr>\n",
       "      <th>3</th>\n",
       "      <td>indian</td>\n",
       "      <td>22213</td>\n",
       "      <td>[water, vegetable oil, wheat, salt]</td>\n",
       "    </tr>\n",
       "    <tr>\n",
       "      <th>4</th>\n",
       "      <td>indian</td>\n",
       "      <td>13162</td>\n",
       "      <td>[black pepper, shallots, cornflour, cayenne pe...</td>\n",
       "    </tr>\n",
       "  </tbody>\n",
       "</table>\n",
       "</div>"
      ],
      "text/plain": [
       "       cuisine     id                                        ingredients\n",
       "0        greek  10259  [romaine lettuce, black olives, grape tomatoes...\n",
       "1  southern_us  25693  [plain flour, ground pepper, salt, tomatoes, g...\n",
       "2     filipino  20130  [eggs, pepper, salt, mayonaise, cooking oil, g...\n",
       "3       indian  22213                [water, vegetable oil, wheat, salt]\n",
       "4       indian  13162  [black pepper, shallots, cornflour, cayenne pe..."
      ]
     },
     "execution_count": 4,
     "metadata": {},
     "output_type": "execute_result"
    }
   ],
   "source": [
    "# visualização das cinco primeira receitas presentes no conjunto de treino\n",
    "train.head()"
   ]
  },
  {
   "cell_type": "code",
   "execution_count": 5,
   "metadata": {},
   "outputs": [
    {
     "name": "stdout",
     "output_type": "stream",
     "text": [
      "O conjunto de teste possui 9944 exemplos, cada qual representando uma receita, e 2 colunas. Diferentemente do que ocorreu com o conjunto de treino, a classe não foi fornecida para o conjunto de teste.\n"
     ]
    }
   ],
   "source": [
    "print(f\"O conjunto de teste possui {test.shape[0]} exemplos, cada qual representando uma receita, e \\\n",
    "{test.shape[1]} colunas. Diferentemente do que ocorreu com o conjunto de treino, a classe não foi fornecida para o conjunto de teste.\") "
   ]
  },
  {
   "cell_type": "code",
   "execution_count": 6,
   "metadata": {},
   "outputs": [
    {
     "data": {
      "text/html": [
       "<div>\n",
       "<style scoped>\n",
       "    .dataframe tbody tr th:only-of-type {\n",
       "        vertical-align: middle;\n",
       "    }\n",
       "\n",
       "    .dataframe tbody tr th {\n",
       "        vertical-align: top;\n",
       "    }\n",
       "\n",
       "    .dataframe thead th {\n",
       "        text-align: right;\n",
       "    }\n",
       "</style>\n",
       "<table border=\"1\" class=\"dataframe\">\n",
       "  <thead>\n",
       "    <tr style=\"text-align: right;\">\n",
       "      <th></th>\n",
       "      <th>id</th>\n",
       "      <th>ingredients</th>\n",
       "    </tr>\n",
       "  </thead>\n",
       "  <tbody>\n",
       "    <tr>\n",
       "      <th>0</th>\n",
       "      <td>18009</td>\n",
       "      <td>[baking powder, eggs, all-purpose flour, raisi...</td>\n",
       "    </tr>\n",
       "    <tr>\n",
       "      <th>1</th>\n",
       "      <td>28583</td>\n",
       "      <td>[sugar, egg yolks, corn starch, cream of tarta...</td>\n",
       "    </tr>\n",
       "    <tr>\n",
       "      <th>2</th>\n",
       "      <td>41580</td>\n",
       "      <td>[sausage links, fennel bulb, fronds, olive oil...</td>\n",
       "    </tr>\n",
       "    <tr>\n",
       "      <th>3</th>\n",
       "      <td>29752</td>\n",
       "      <td>[meat cuts, file powder, smoked sausage, okra,...</td>\n",
       "    </tr>\n",
       "    <tr>\n",
       "      <th>4</th>\n",
       "      <td>35687</td>\n",
       "      <td>[ground black pepper, salt, sausage casings, l...</td>\n",
       "    </tr>\n",
       "  </tbody>\n",
       "</table>\n",
       "</div>"
      ],
      "text/plain": [
       "      id                                        ingredients\n",
       "0  18009  [baking powder, eggs, all-purpose flour, raisi...\n",
       "1  28583  [sugar, egg yolks, corn starch, cream of tarta...\n",
       "2  41580  [sausage links, fennel bulb, fronds, olive oil...\n",
       "3  29752  [meat cuts, file powder, smoked sausage, okra,...\n",
       "4  35687  [ground black pepper, salt, sausage casings, l..."
      ]
     },
     "execution_count": 6,
     "metadata": {},
     "output_type": "execute_result"
    }
   ],
   "source": [
    "# visualização das cinco primeira receitas presentes no conjunto de teste\n",
    "test.head()"
   ]
  },
  {
   "cell_type": "markdown",
   "metadata": {},
   "source": [
    "### Tratamento dos dados\n",
    "\n",
    "Os seguintes tratamentos serão realizados nos dois conjuntos de dados:\n",
    "  * Conversão de todas as palavras para letras minúsculas\n",
    "  * Remoção de caracteres númericos e especiais\n",
    "  * Remoção de palavras indicando unidades de medida\n",
    "  * Remoção de stopwords\n",
    "  * Lematização das palavras"
   ]
  },
  {
   "cell_type": "code",
   "execution_count": 7,
   "metadata": {},
   "outputs": [],
   "source": [
    "# função para contabilizar a quantidade de ingredientes únicos\n",
    "def unique(data):\n",
    "    return list(dict.fromkeys(data))"
   ]
  },
  {
   "cell_type": "code",
   "execution_count": 8,
   "metadata": {},
   "outputs": [
    {
     "name": "stdout",
     "output_type": "stream",
     "text": [
      "Antes do tratamento dos dados, o conjunto de treino possui 6714 ingredientes únicos.\n"
     ]
    }
   ],
   "source": [
    "print(f\"Antes do tratamento dos dados, o conjunto de treino possui \\\n",
    "{len(unique([j for i in train['ingredients'] for j in i]))} ingredientes únicos.\")"
   ]
  },
  {
   "cell_type": "code",
   "execution_count": 9,
   "metadata": {},
   "outputs": [
    {
     "name": "stdout",
     "output_type": "stream",
     "text": [
      "Antes do tratamento dos dados, o conjunto de teste possui 4484 ingredientes únicos.\n"
     ]
    }
   ],
   "source": [
    "print(f\"Antes do tratamento dos dados, o conjunto de teste possui \\\n",
    "{len(unique([j for i in test['ingredients'] for j in i]))} ingredientes únicos.\")"
   ]
  },
  {
   "cell_type": "markdown",
   "metadata": {},
   "source": [
    "#### Conversão para letras minúsculas"
   ]
  },
  {
   "cell_type": "code",
   "execution_count": 10,
   "metadata": {},
   "outputs": [],
   "source": [
    "train['ingredients'] = train['ingredients'].apply(lambda x: list(map(lambda x:x.lower(),x)))\n",
    "test['ingredients'] = test['ingredients'].apply(lambda x: list(map(lambda x:x.lower(),x)))"
   ]
  },
  {
   "cell_type": "markdown",
   "metadata": {},
   "source": [
    "#### Remoção de unidades medidas"
   ]
  },
  {
   "cell_type": "markdown",
   "metadata": {},
   "source": [
    "As unidades de medida abaixo e que foram encontradas durante a EDA serão removidas dos dois conjuntos de dados:\n",
    "\n",
    "* [oz.](https://en.wikipedia.org/wiki/Ounce)\n",
    "* [ounc](https://en.wikipedia.org/wiki/Ounce) (Ounce escrita de maneira incorreta)\n",
    "* [lb.](https://en.wikipedia.org/wiki/Pound_(mass))\n",
    "* [pound](https://en.wikipedia.org/wiki/Pound_(mass))\n",
    "* [inch](https://en.wikipedia.org/wiki/Inch)"
   ]
  },
  {
   "cell_type": "code",
   "execution_count": 11,
   "metadata": {},
   "outputs": [],
   "source": [
    "train['ingredients'] = train['ingredients'].apply(lambda x: \n",
    "                                        list(map(lambda x:x.replace('oz.', '')\n",
    "                                                 .replace('ounc', '')\n",
    "                                                 .replace('lb.', '')\n",
    "                                                 .replace('pound', '')\n",
    "                                                 .replace(' inch', '')\n",
    "                                                 ,x)))\n",
    "test['ingredients'] = test['ingredients'].apply(lambda x: \n",
    "                                        list(map(lambda x:x.replace('oz.', '')\n",
    "                                                 .replace('ounc', '')\n",
    "                                                 .replace('lb.', '')\n",
    "                                                 .replace('pound', '')\n",
    "                                                 .replace(' inch', '')\n",
    "                                                 ,x)))"
   ]
  },
  {
   "cell_type": "markdown",
   "metadata": {},
   "source": [
    "#### Remoção números e caracteres especiais"
   ]
  },
  {
   "cell_type": "code",
   "execution_count": 12,
   "metadata": {},
   "outputs": [],
   "source": [
    "# retira os caracteres numéricos \n",
    "train['ingredients'] = train['ingredients'].apply(lambda x: list(map(lambda x:re.sub('[0-9]', '',x),x)))\n",
    "test['ingredients'] = test['ingredients'].apply(lambda x: list(map(lambda x:re.sub('[0-9]', '',x),x)))\n",
    "\n",
    "# retira os caracteres especiais\n",
    "train['ingredients'] = train['ingredients'].apply(lambda x: list(map(lambda x:re.sub('[!%&/.,®€™()]', '',x),x)))\n",
    "test['ingredients'] = test['ingredients'].apply(lambda x: list(map(lambda x:re.sub('[!%&/.,®€™()]', '',x),x)))\n",
    "\n",
    "# no caso do hífen, ápice e apóstrofo, será dado um espaço para que as palavras separadas não sejam agrupadas em uma só\n",
    "train['ingredients'] = train['ingredients'].apply(lambda x: list(map(lambda x:re.sub('[-’\\']', ' ',x),x)))\n",
    "test['ingredients'] = test['ingredients'].apply(lambda x: list(map(lambda x:re.sub('[-’\\']', ' ',x),x)))"
   ]
  },
  {
   "cell_type": "markdown",
   "metadata": {},
   "source": [
    "É necessário retirar os acentos de algumas palavras, visto que há casos do mesmo ingrediente escrito de maneiras diferentes no conjunto de dados (por exemplo, o ingrediente `açaí` está escrito como `açai` e `acai`):"
   ]
  },
  {
   "cell_type": "code",
   "execution_count": 13,
   "metadata": {},
   "outputs": [],
   "source": [
    "train['ingredients'] = train['ingredients'].apply(lambda x: \n",
    "                                        list(map(lambda x:x.replace('â', \"a\")\n",
    "                                                 .replace('ç', 'c')\n",
    "                                                 .replace('è', 'e')\n",
    "                                                 .replace('é', 'e')\n",
    "                                                 .replace('í', 'i')\n",
    "                                                 .replace('î', 'i')\n",
    "                                                 .replace('ú', 'u')\n",
    "                                                 ,x)))\n",
    "test['ingredients'] = test['ingredients'].apply(lambda x: \n",
    "                                        list(map(lambda x:x.replace('â', \"a\")\n",
    "                                                 .replace('ç', 'c')\n",
    "                                                 .replace('è', 'e')\n",
    "                                                 .replace('é', 'e')\n",
    "                                                 .replace('í', 'i')\n",
    "                                                 .replace('î', 'i')\n",
    "                                                 .replace('ú', 'u')\n",
    "                                                 ,x)))"
   ]
  },
  {
   "cell_type": "markdown",
   "metadata": {},
   "source": [
    "#### Remoção stopwords"
   ]
  },
  {
   "cell_type": "code",
   "execution_count": 14,
   "metadata": {},
   "outputs": [],
   "source": [
    "# lista de stopwords em inglês\n",
    "stop_words = set(stopwords.words('english')) \n",
    "\n",
    "# função para remover as stopwords da lista de ingredientes das receitas\n",
    "def remove_stopwords(df, column):\n",
    "    for i, row in df.iterrows():\n",
    "        ingredients_without_stopwords = []\n",
    "        for sentence in df.at[i, column]:\n",
    "            temp_list=[]\n",
    "            for word in sentence.split():\n",
    "                if word.lower() not in stop_words:\n",
    "                    temp_list.append(word)\n",
    "            ingredients_without_stopwords.append(' '.join(temp_list))\n",
    "        df.at[i, column] = ingredients_without_stopwords\n",
    "    return df[column]"
   ]
  },
  {
   "cell_type": "code",
   "execution_count": 15,
   "metadata": {},
   "outputs": [],
   "source": [
    "train['ingredients'] = remove_stopwords(train,'ingredients')\n",
    "test['ingredients'] = remove_stopwords(test,'ingredients')"
   ]
  },
  {
   "cell_type": "markdown",
   "metadata": {},
   "source": [
    "#### Lematização dos ingredientes"
   ]
  },
  {
   "cell_type": "code",
   "execution_count": 16,
   "metadata": {},
   "outputs": [],
   "source": [
    "# converte as palavras do plural para o singular\n",
    "lemmatizer = WordNetLemmatizer()\n",
    "\n",
    "def lemmatize(ingredients):\n",
    "    for i in ingredients.index.values:\n",
    "        for j in range(len(ingredients[i])):\n",
    "            ingredients[i][j] = ingredients[i][j].strip()\n",
    "            token = TK(ingredients[i][j])\n",
    "            for k in range(len(token)):\n",
    "                token[k] = lemmatizer.lemmatize(token[k])\n",
    "            token = ' '.join(token)\n",
    "            ingredients[i][j] = token\n",
    "    return ingredients"
   ]
  },
  {
   "cell_type": "code",
   "execution_count": 17,
   "metadata": {},
   "outputs": [],
   "source": [
    "train['ingredients'] = lemmatize(train.ingredients)\n",
    "test['ingredients'] = lemmatize(test.ingredients)"
   ]
  },
  {
   "cell_type": "markdown",
   "metadata": {},
   "source": [
    "#### Remoção dos espaços em branco em excesso"
   ]
  },
  {
   "cell_type": "markdown",
   "metadata": {},
   "source": [
    "Por conta dos tratamentos realizadas, alguns espaços a mais ficaram sobrando no nome dos ingredientes (por exemplo, o ingrediente `7 Up` não existe mais porque seu nome era formado apenas por um número e uma stopword, que foram removidos). O código abaixo resolve esse problema:"
   ]
  },
  {
   "cell_type": "code",
   "execution_count": 18,
   "metadata": {},
   "outputs": [],
   "source": [
    "def remove_empty_ingredients(df, column):\n",
    "    for i, row in df.iterrows():\n",
    "        df.at[i, column] = [x.strip() for x in df.at[i, column] if x.strip()]\n",
    "    return df[column]"
   ]
  },
  {
   "cell_type": "code",
   "execution_count": 19,
   "metadata": {},
   "outputs": [],
   "source": [
    "train['ingredients'] = remove_empty_ingredients(train,'ingredients')\n",
    "test['ingredients'] = remove_empty_ingredients(test,'ingredients')"
   ]
  },
  {
   "cell_type": "code",
   "execution_count": 20,
   "metadata": {},
   "outputs": [
    {
     "name": "stdout",
     "output_type": "stream",
     "text": [
      "Após o tratamento dos dados, restaram 6658 ingredientes únicos no conjunto de treino.\n"
     ]
    }
   ],
   "source": [
    "print(f\"Após o tratamento dos dados, restaram \\\n",
    "{len(unique([j for i in train['ingredients'] for j in i]))} ingredientes únicos no conjunto de treino.\")"
   ]
  },
  {
   "cell_type": "code",
   "execution_count": 21,
   "metadata": {},
   "outputs": [
    {
     "name": "stdout",
     "output_type": "stream",
     "text": [
      "Após o tratamento dos dados, restaram 4452 ingredientes únicos no conjunto de teste.\n"
     ]
    }
   ],
   "source": [
    "print(f\"Após o tratamento dos dados, restaram \\\n",
    "{len(unique([j for i in test['ingredients'] for j in i]))} ingredientes únicos no conjunto de teste.\")"
   ]
  },
  {
   "cell_type": "markdown",
   "metadata": {},
   "source": [
    "### Limpeza dos dados"
   ]
  },
  {
   "cell_type": "markdown",
   "metadata": {},
   "source": [
    "Com base na EDA realizada anteriormente, foram identificadas as seguintes tarefas de limpeza de dados:\n",
    "\n",
    "* Exclusão das receitas repetidas por tipo de cozinha\n",
    "* Exclusão de outliers (receitas com apenas 1 ingrediente ou com mais de 40)\n",
    "* Exclusão de ingredientes repetidos na lista de ingredientes de algumas receitas\n",
    "\n",
    "As duas primeiras tarefas serão realizadas somente no conjunto de treinamento, visto que o conjunto de teste não não possui a classe, que permitiria identificar as receitas repetidas, e porque não podem ser removidos os outliers, visto que o arquivo a ser fornecido para o Kaggle deve conter as predições para todos os exemplos existentes no conjunto de teste."
   ]
  },
  {
   "cell_type": "markdown",
   "metadata": {},
   "source": [
    "#### Exclusão das receitas repetidas por tipo de cozinha"
   ]
  },
  {
   "cell_type": "code",
   "execution_count": 22,
   "metadata": {},
   "outputs": [],
   "source": [
    "train[\"ingredients_text\"] = train[\"ingredients\"].apply(lambda x: \", \".join(x))\n",
    "train.drop_duplicates(subset=['cuisine','ingredients_text'], keep='first', inplace=True)"
   ]
  },
  {
   "cell_type": "markdown",
   "metadata": {},
   "source": [
    "#### Exclusão de outliers"
   ]
  },
  {
   "cell_type": "code",
   "execution_count": 23,
   "metadata": {},
   "outputs": [],
   "source": [
    "train['ingredients_qtt'] = train['ingredients'].apply(lambda x: len(x))\n",
    "train = train[(train['ingredients_qtt'] <= 40) | (train['ingredients_qtt'] > 1)]"
   ]
  },
  {
   "cell_type": "markdown",
   "metadata": {},
   "source": [
    "#### Exclusão de ingredientes repetidos na lista de ingredientes"
   ]
  },
  {
   "cell_type": "code",
   "execution_count": 24,
   "metadata": {},
   "outputs": [],
   "source": [
    "# remoção dos ingredientes duplicados\n",
    "train['ingredients'] = train['ingredients'].apply(lambda x: list(set(x)))\n",
    "test['ingredients'] = test['ingredients'].apply(lambda x: list(set(x)))"
   ]
  },
  {
   "cell_type": "markdown",
   "metadata": {},
   "source": [
    "### Criação de novas features\n",
    "\n",
    "Duas novas features serão adicionadas aos conjuntos de dados:\n",
    "* `ingredients_qtt`: indica a quantidade de ingredientes presentes na receita\n",
    "* `ingredients_text`: lista de ingredientes presentes na receita. Ao invés de ser uma lista de strings, é somente uma string na qual os ingredientes estão separados por vírgula"
   ]
  },
  {
   "cell_type": "markdown",
   "metadata": {},
   "source": [
    "#### ingredients_qtt"
   ]
  },
  {
   "cell_type": "code",
   "execution_count": 25,
   "metadata": {},
   "outputs": [],
   "source": [
    "# cria uma nova coluna contendo a quantidade de ingredientes presentes em cada receita\n",
    "train['ingredients_qtt'] = train['ingredients'].apply(lambda x: len(x))\n",
    "test['ingredients_qtt'] = test['ingredients'].apply(lambda x: len(x))"
   ]
  },
  {
   "cell_type": "markdown",
   "metadata": {},
   "source": [
    "#### ingredients_text"
   ]
  },
  {
   "cell_type": "code",
   "execution_count": 26,
   "metadata": {},
   "outputs": [],
   "source": [
    "# cria uma nova coluna contendo a tranformação da lista de ingredientes em uma única string, com os ingredientes \n",
    "# separados por vírgula\n",
    "train[\"ingredients_text\"] = train[\"ingredients\"].apply(lambda x: \" \".join(x))\n",
    "test[\"ingredients_text\"] = test[\"ingredients\"].apply(lambda x: \" \".join(x))"
   ]
  },
  {
   "cell_type": "markdown",
   "metadata": {},
   "source": [
    "### Conjuntos de dados processados"
   ]
  },
  {
   "cell_type": "markdown",
   "metadata": {},
   "source": [
    "Com os conjuntos de dados processados, "
   ]
  },
  {
   "cell_type": "code",
   "execution_count": 27,
   "metadata": {},
   "outputs": [
    {
     "name": "stdout",
     "output_type": "stream",
     "text": [
      "O conjunto de treinamento processado possui 39677 exemplos e 5 colunas:\n"
     ]
    }
   ],
   "source": [
    "print(f\"O conjunto de treinamento processado possui {train.shape[0]} exemplos e \\\n",
    "{train.shape[1]} colunas:\") "
   ]
  },
  {
   "cell_type": "code",
   "execution_count": 28,
   "metadata": {},
   "outputs": [
    {
     "data": {
      "text/html": [
       "<div>\n",
       "<style scoped>\n",
       "    .dataframe tbody tr th:only-of-type {\n",
       "        vertical-align: middle;\n",
       "    }\n",
       "\n",
       "    .dataframe tbody tr th {\n",
       "        vertical-align: top;\n",
       "    }\n",
       "\n",
       "    .dataframe thead th {\n",
       "        text-align: right;\n",
       "    }\n",
       "</style>\n",
       "<table border=\"1\" class=\"dataframe\">\n",
       "  <thead>\n",
       "    <tr style=\"text-align: right;\">\n",
       "      <th></th>\n",
       "      <th>cuisine</th>\n",
       "      <th>id</th>\n",
       "      <th>ingredients</th>\n",
       "      <th>ingredients_text</th>\n",
       "      <th>ingredients_qtt</th>\n",
       "    </tr>\n",
       "  </thead>\n",
       "  <tbody>\n",
       "    <tr>\n",
       "      <th>0</th>\n",
       "      <td>greek</td>\n",
       "      <td>10259</td>\n",
       "      <td>[pepper, garbanzo bean, romaine lettuce, black...</td>\n",
       "      <td>pepper garbanzo bean romaine lettuce black oli...</td>\n",
       "      <td>9</td>\n",
       "    </tr>\n",
       "    <tr>\n",
       "      <th>1</th>\n",
       "      <td>southern_us</td>\n",
       "      <td>25693</td>\n",
       "      <td>[milk, egg, green tomato, yellow corn meal, th...</td>\n",
       "      <td>milk egg green tomato yellow corn meal thyme s...</td>\n",
       "      <td>11</td>\n",
       "    </tr>\n",
       "    <tr>\n",
       "      <th>2</th>\n",
       "      <td>filipino</td>\n",
       "      <td>20130</td>\n",
       "      <td>[grilled chicken breast, pepper, egg, mayonais...</td>\n",
       "      <td>grilled chicken breast pepper egg mayonaise ch...</td>\n",
       "      <td>12</td>\n",
       "    </tr>\n",
       "    <tr>\n",
       "      <th>3</th>\n",
       "      <td>indian</td>\n",
       "      <td>22213</td>\n",
       "      <td>[salt, water, wheat, vegetable oil]</td>\n",
       "      <td>salt water wheat vegetable oil</td>\n",
       "      <td>4</td>\n",
       "    </tr>\n",
       "    <tr>\n",
       "      <th>4</th>\n",
       "      <td>indian</td>\n",
       "      <td>13162</td>\n",
       "      <td>[double cream, bay leaf, shallot, chili powder...</td>\n",
       "      <td>double cream bay leaf shallot chili powder mil...</td>\n",
       "      <td>20</td>\n",
       "    </tr>\n",
       "  </tbody>\n",
       "</table>\n",
       "</div>"
      ],
      "text/plain": [
       "       cuisine     id                                        ingredients  \\\n",
       "0        greek  10259  [pepper, garbanzo bean, romaine lettuce, black...   \n",
       "1  southern_us  25693  [milk, egg, green tomato, yellow corn meal, th...   \n",
       "2     filipino  20130  [grilled chicken breast, pepper, egg, mayonais...   \n",
       "3       indian  22213                [salt, water, wheat, vegetable oil]   \n",
       "4       indian  13162  [double cream, bay leaf, shallot, chili powder...   \n",
       "\n",
       "                                    ingredients_text  ingredients_qtt  \n",
       "0  pepper garbanzo bean romaine lettuce black oli...                9  \n",
       "1  milk egg green tomato yellow corn meal thyme s...               11  \n",
       "2  grilled chicken breast pepper egg mayonaise ch...               12  \n",
       "3                     salt water wheat vegetable oil                4  \n",
       "4  double cream bay leaf shallot chili powder mil...               20  "
      ]
     },
     "execution_count": 28,
     "metadata": {},
     "output_type": "execute_result"
    }
   ],
   "source": [
    "# visualização das cinco primeira receitas presentes no conjunto de treino\n",
    "train.head()"
   ]
  },
  {
   "cell_type": "code",
   "execution_count": 29,
   "metadata": {},
   "outputs": [
    {
     "data": {
      "text/html": [
       "<div>\n",
       "<style scoped>\n",
       "    .dataframe tbody tr th:only-of-type {\n",
       "        vertical-align: middle;\n",
       "    }\n",
       "\n",
       "    .dataframe tbody tr th {\n",
       "        vertical-align: top;\n",
       "    }\n",
       "\n",
       "    .dataframe thead th {\n",
       "        text-align: right;\n",
       "    }\n",
       "</style>\n",
       "<table border=\"1\" class=\"dataframe\">\n",
       "  <thead>\n",
       "    <tr style=\"text-align: right;\">\n",
       "      <th></th>\n",
       "      <th>cuisine</th>\n",
       "      <th>id</th>\n",
       "      <th>ingredients</th>\n",
       "      <th>ingredients_text</th>\n",
       "      <th>ingredients_qtt</th>\n",
       "    </tr>\n",
       "  </thead>\n",
       "  <tbody>\n",
       "    <tr>\n",
       "      <th>39769</th>\n",
       "      <td>irish</td>\n",
       "      <td>29109</td>\n",
       "      <td>[light brown sugar, large egg, purpose flour, ...</td>\n",
       "      <td>light brown sugar large egg purpose flour warm...</td>\n",
       "      <td>12</td>\n",
       "    </tr>\n",
       "    <tr>\n",
       "      <th>39770</th>\n",
       "      <td>italian</td>\n",
       "      <td>11462</td>\n",
       "      <td>[broccoli floret, red pepper, kraft zesty ital...</td>\n",
       "      <td>broccoli floret red pepper kraft zesty italian...</td>\n",
       "      <td>7</td>\n",
       "    </tr>\n",
       "    <tr>\n",
       "      <th>39771</th>\n",
       "      <td>irish</td>\n",
       "      <td>2238</td>\n",
       "      <td>[milk, sourdough starter, sugar, raisin, hot t...</td>\n",
       "      <td>milk sourdough starter sugar raisin hot tea eg...</td>\n",
       "      <td>12</td>\n",
       "    </tr>\n",
       "    <tr>\n",
       "      <th>39772</th>\n",
       "      <td>chinese</td>\n",
       "      <td>41882</td>\n",
       "      <td>[steamed white rice, store bought low sodium c...</td>\n",
       "      <td>steamed white rice store bought low sodium chi...</td>\n",
       "      <td>21</td>\n",
       "    </tr>\n",
       "    <tr>\n",
       "      <th>39773</th>\n",
       "      <td>mexican</td>\n",
       "      <td>2362</td>\n",
       "      <td>[celery, white sugar, chopped cilantro fresh, ...</td>\n",
       "      <td>celery white sugar chopped cilantro fresh drie...</td>\n",
       "      <td>12</td>\n",
       "    </tr>\n",
       "  </tbody>\n",
       "</table>\n",
       "</div>"
      ],
      "text/plain": [
       "       cuisine     id                                        ingredients  \\\n",
       "39769    irish  29109  [light brown sugar, large egg, purpose flour, ...   \n",
       "39770  italian  11462  [broccoli floret, red pepper, kraft zesty ital...   \n",
       "39771    irish   2238  [milk, sourdough starter, sugar, raisin, hot t...   \n",
       "39772  chinese  41882  [steamed white rice, store bought low sodium c...   \n",
       "39773  mexican   2362  [celery, white sugar, chopped cilantro fresh, ...   \n",
       "\n",
       "                                        ingredients_text  ingredients_qtt  \n",
       "39769  light brown sugar large egg purpose flour warm...               12  \n",
       "39770  broccoli floret red pepper kraft zesty italian...                7  \n",
       "39771  milk sourdough starter sugar raisin hot tea eg...               12  \n",
       "39772  steamed white rice store bought low sodium chi...               21  \n",
       "39773  celery white sugar chopped cilantro fresh drie...               12  "
      ]
     },
     "execution_count": 29,
     "metadata": {},
     "output_type": "execute_result"
    }
   ],
   "source": [
    "train.tail()"
   ]
  },
  {
   "cell_type": "code",
   "execution_count": 30,
   "metadata": {},
   "outputs": [
    {
     "name": "stdout",
     "output_type": "stream",
     "text": [
      "O conjunto de teste processado possui 9944 exemplos e 4 colunas:\n"
     ]
    }
   ],
   "source": [
    "print(f\"O conjunto de teste processado possui {test.shape[0]} exemplos e \\\n",
    "{test.shape[1]} colunas:\") "
   ]
  },
  {
   "cell_type": "code",
   "execution_count": 31,
   "metadata": {},
   "outputs": [
    {
     "data": {
      "text/html": [
       "<div>\n",
       "<style scoped>\n",
       "    .dataframe tbody tr th:only-of-type {\n",
       "        vertical-align: middle;\n",
       "    }\n",
       "\n",
       "    .dataframe tbody tr th {\n",
       "        vertical-align: top;\n",
       "    }\n",
       "\n",
       "    .dataframe thead th {\n",
       "        text-align: right;\n",
       "    }\n",
       "</style>\n",
       "<table border=\"1\" class=\"dataframe\">\n",
       "  <thead>\n",
       "    <tr style=\"text-align: right;\">\n",
       "      <th></th>\n",
       "      <th>id</th>\n",
       "      <th>ingredients</th>\n",
       "      <th>ingredients_qtt</th>\n",
       "      <th>ingredients_text</th>\n",
       "    </tr>\n",
       "  </thead>\n",
       "  <tbody>\n",
       "    <tr>\n",
       "      <th>0</th>\n",
       "      <td>18009</td>\n",
       "      <td>[milk, raisin, purpose flour, baking powder, e...</td>\n",
       "      <td>6</td>\n",
       "      <td>milk raisin purpose flour baking powder egg wh...</td>\n",
       "    </tr>\n",
       "    <tr>\n",
       "      <th>1</th>\n",
       "      <td>28583</td>\n",
       "      <td>[milk, sugar, vanilla extract, egg yolk, egg w...</td>\n",
       "      <td>11</td>\n",
       "      <td>milk sugar vanilla extract egg yolk egg white ...</td>\n",
       "    </tr>\n",
       "    <tr>\n",
       "      <th>2</th>\n",
       "      <td>41580</td>\n",
       "      <td>[cuban pepper, frond, fennel bulb, onion, saus...</td>\n",
       "      <td>6</td>\n",
       "      <td>cuban pepper frond fennel bulb onion sausage l...</td>\n",
       "    </tr>\n",
       "    <tr>\n",
       "      <th>3</th>\n",
       "      <td>29752</td>\n",
       "      <td>[ham, file powder, shrimp, dried thyme, flat l...</td>\n",
       "      <td>21</td>\n",
       "      <td>ham file powder shrimp dried thyme flat leaf p...</td>\n",
       "    </tr>\n",
       "    <tr>\n",
       "      <th>4</th>\n",
       "      <td>35687</td>\n",
       "      <td>[leek, parmigiano reggiano cheese, cornmeal, s...</td>\n",
       "      <td>8</td>\n",
       "      <td>leek parmigiano reggiano cheese cornmeal sausa...</td>\n",
       "    </tr>\n",
       "  </tbody>\n",
       "</table>\n",
       "</div>"
      ],
      "text/plain": [
       "      id                                        ingredients  ingredients_qtt  \\\n",
       "0  18009  [milk, raisin, purpose flour, baking powder, e...                6   \n",
       "1  28583  [milk, sugar, vanilla extract, egg yolk, egg w...               11   \n",
       "2  41580  [cuban pepper, frond, fennel bulb, onion, saus...                6   \n",
       "3  29752  [ham, file powder, shrimp, dried thyme, flat l...               21   \n",
       "4  35687  [leek, parmigiano reggiano cheese, cornmeal, s...                8   \n",
       "\n",
       "                                    ingredients_text  \n",
       "0  milk raisin purpose flour baking powder egg wh...  \n",
       "1  milk sugar vanilla extract egg yolk egg white ...  \n",
       "2  cuban pepper frond fennel bulb onion sausage l...  \n",
       "3  ham file powder shrimp dried thyme flat leaf p...  \n",
       "4  leek parmigiano reggiano cheese cornmeal sausa...  "
      ]
     },
     "execution_count": 31,
     "metadata": {},
     "output_type": "execute_result"
    }
   ],
   "source": [
    "# visualização das cinco primeira receitas presentes no conjunto de teste\n",
    "test.head()"
   ]
  },
  {
   "cell_type": "markdown",
   "metadata": {},
   "source": [
    "Como é possível notar acima, nenhum exemplo foi excluído do conjunto de teste, mas foram adicionadas as 2 colunas descritas acima."
   ]
  },
  {
   "cell_type": "code",
   "execution_count": 32,
   "metadata": {},
   "outputs": [],
   "source": [
    "train = train.reset_index(drop=True)"
   ]
  },
  {
   "cell_type": "markdown",
   "metadata": {},
   "source": [
    "Como as classes presentes no conjunto de dados são categóricas, é necessário convertê-las para variáveis númericas. Essa conversão é realizada abaixo:"
   ]
  },
  {
   "cell_type": "code",
   "execution_count": 33,
   "metadata": {},
   "outputs": [],
   "source": [
    "encoder = LabelEncoder()\n",
    "y_train = encoder.fit_transform(train.cuisine)"
   ]
  },
  {
   "cell_type": "code",
   "execution_count": 34,
   "metadata": {},
   "outputs": [
    {
     "data": {
      "text/plain": [
       "[('brazilian', 0),\n",
       " ('british', 1),\n",
       " ('cajun_creole', 2),\n",
       " ('chinese', 3),\n",
       " ('filipino', 4),\n",
       " ('french', 5),\n",
       " ('greek', 6),\n",
       " ('indian', 7),\n",
       " ('irish', 8),\n",
       " ('italian', 9),\n",
       " ('jamaican', 10),\n",
       " ('japanese', 11),\n",
       " ('korean', 12),\n",
       " ('mexican', 13),\n",
       " ('moroccan', 14),\n",
       " ('russian', 15),\n",
       " ('southern_us', 16),\n",
       " ('spanish', 17),\n",
       " ('thai', 18),\n",
       " ('vietnamese', 19)]"
      ]
     },
     "execution_count": 34,
     "metadata": {},
     "output_type": "execute_result"
    }
   ],
   "source": [
    "# lista o nome da cozinha e o número que orá representá-la\n",
    "list(zip(encoder.classes_, encoder.transform(encoder.classes_)))"
   ]
  },
  {
   "cell_type": "code",
   "execution_count": 35,
   "metadata": {},
   "outputs": [],
   "source": [
    "vectorizer = make_pipeline(\n",
    "        TfidfVectorizer(binary=True),\n",
    "        FunctionTransformer(lambda x: x.astype('float'), validate=False)\n",
    "    )"
   ]
  },
  {
   "cell_type": "code",
   "execution_count": 36,
   "metadata": {},
   "outputs": [],
   "source": [
    "tfidf = vectorizer.fit_transform(train['ingredients_text'])\n",
    "tfidf = pd.DataFrame(tfidf.toarray())"
   ]
  },
  {
   "cell_type": "code",
   "execution_count": 37,
   "metadata": {},
   "outputs": [
    {
     "name": "stdout",
     "output_type": "stream",
     "text": [
      "(39677, 2730)\n"
     ]
    }
   ],
   "source": [
    "print (tfidf.shape)"
   ]
  },
  {
   "cell_type": "code",
   "execution_count": 38,
   "metadata": {},
   "outputs": [],
   "source": [
    "X_train = pd.concat([train, tfidf],axis=1)"
   ]
  },
  {
   "cell_type": "code",
   "execution_count": 39,
   "metadata": {},
   "outputs": [
    {
     "data": {
      "text/html": [
       "<div>\n",
       "<style scoped>\n",
       "    .dataframe tbody tr th:only-of-type {\n",
       "        vertical-align: middle;\n",
       "    }\n",
       "\n",
       "    .dataframe tbody tr th {\n",
       "        vertical-align: top;\n",
       "    }\n",
       "\n",
       "    .dataframe thead th {\n",
       "        text-align: right;\n",
       "    }\n",
       "</style>\n",
       "<table border=\"1\" class=\"dataframe\">\n",
       "  <thead>\n",
       "    <tr style=\"text-align: right;\">\n",
       "      <th></th>\n",
       "      <th>cuisine</th>\n",
       "      <th>id</th>\n",
       "      <th>ingredients</th>\n",
       "      <th>ingredients_text</th>\n",
       "      <th>ingredients_qtt</th>\n",
       "    </tr>\n",
       "  </thead>\n",
       "  <tbody>\n",
       "    <tr>\n",
       "      <th>39672</th>\n",
       "      <td>irish</td>\n",
       "      <td>29109</td>\n",
       "      <td>[light brown sugar, large egg, purpose flour, ...</td>\n",
       "      <td>light brown sugar large egg purpose flour warm...</td>\n",
       "      <td>12</td>\n",
       "    </tr>\n",
       "    <tr>\n",
       "      <th>39673</th>\n",
       "      <td>italian</td>\n",
       "      <td>11462</td>\n",
       "      <td>[broccoli floret, red pepper, kraft zesty ital...</td>\n",
       "      <td>broccoli floret red pepper kraft zesty italian...</td>\n",
       "      <td>7</td>\n",
       "    </tr>\n",
       "    <tr>\n",
       "      <th>39674</th>\n",
       "      <td>irish</td>\n",
       "      <td>2238</td>\n",
       "      <td>[milk, sourdough starter, sugar, raisin, hot t...</td>\n",
       "      <td>milk sourdough starter sugar raisin hot tea eg...</td>\n",
       "      <td>12</td>\n",
       "    </tr>\n",
       "    <tr>\n",
       "      <th>39675</th>\n",
       "      <td>chinese</td>\n",
       "      <td>41882</td>\n",
       "      <td>[steamed white rice, store bought low sodium c...</td>\n",
       "      <td>steamed white rice store bought low sodium chi...</td>\n",
       "      <td>21</td>\n",
       "    </tr>\n",
       "    <tr>\n",
       "      <th>39676</th>\n",
       "      <td>mexican</td>\n",
       "      <td>2362</td>\n",
       "      <td>[celery, white sugar, chopped cilantro fresh, ...</td>\n",
       "      <td>celery white sugar chopped cilantro fresh drie...</td>\n",
       "      <td>12</td>\n",
       "    </tr>\n",
       "  </tbody>\n",
       "</table>\n",
       "</div>"
      ],
      "text/plain": [
       "       cuisine     id                                        ingredients  \\\n",
       "39672    irish  29109  [light brown sugar, large egg, purpose flour, ...   \n",
       "39673  italian  11462  [broccoli floret, red pepper, kraft zesty ital...   \n",
       "39674    irish   2238  [milk, sourdough starter, sugar, raisin, hot t...   \n",
       "39675  chinese  41882  [steamed white rice, store bought low sodium c...   \n",
       "39676  mexican   2362  [celery, white sugar, chopped cilantro fresh, ...   \n",
       "\n",
       "                                        ingredients_text  ingredients_qtt  \n",
       "39672  light brown sugar large egg purpose flour warm...               12  \n",
       "39673  broccoli floret red pepper kraft zesty italian...                7  \n",
       "39674  milk sourdough starter sugar raisin hot tea eg...               12  \n",
       "39675  steamed white rice store bought low sodium chi...               21  \n",
       "39676  celery white sugar chopped cilantro fresh drie...               12  "
      ]
     },
     "execution_count": 39,
     "metadata": {},
     "output_type": "execute_result"
    }
   ],
   "source": [
    "train.tail()"
   ]
  },
  {
   "cell_type": "code",
   "execution_count": 40,
   "metadata": {},
   "outputs": [],
   "source": [
    "X_train.to_csv(\"../dados/processed_train.csv\", index=False)"
   ]
  },
  {
   "cell_type": "code",
   "execution_count": 41,
   "metadata": {},
   "outputs": [],
   "source": [
    "pd.DataFrame(y_train, columns=['target']).to_csv(\"../dados/train_target.csv\", index=False)"
   ]
  },
  {
   "cell_type": "code",
   "execution_count": 42,
   "metadata": {},
   "outputs": [
    {
     "name": "stderr",
     "output_type": "stream",
     "text": [
      "C:\\Users\\vivia\\Anaconda3\\lib\\site-packages\\sklearn\\preprocessing\\data.py:625: DataConversionWarning: Data with input dtype int64, float64 were all converted to float64 by StandardScaler.\n",
      "  return self.partial_fit(X, y)\n",
      "C:\\Users\\vivia\\Anaconda3\\lib\\site-packages\\ipykernel_launcher.py:3: DataConversionWarning: Data with input dtype int64, float64 were all converted to float64 by StandardScaler.\n",
      "  This is separate from the ipykernel package so we can avoid doing imports until\n"
     ]
    }
   ],
   "source": [
    "scaler = StandardScaler()\n",
    "scaler.fit(pd.concat([train['ingredients_qtt'], tfidf],axis=1))\n",
    "X_train_scaled = scaler.transform(pd.concat([train['ingredients_qtt'], tfidf],axis=1))"
   ]
  },
  {
   "cell_type": "code",
   "execution_count": 43,
   "metadata": {},
   "outputs": [],
   "source": [
    "X_train_scaled = pd.concat([train, pd.DataFrame(X_train_scaled)],axis=1)"
   ]
  },
  {
   "cell_type": "code",
   "execution_count": 44,
   "metadata": {},
   "outputs": [],
   "source": [
    "X_train_scaled.to_csv(\"../dados/processed_train_scaled.csv\", index=False)"
   ]
  },
  {
   "cell_type": "code",
   "execution_count": 45,
   "metadata": {},
   "outputs": [],
   "source": [
    "tfidf = vectorizer.fit_transform(test['ingredients_text'])\n",
    "tfidf = pd.DataFrame(tfidf.toarray())"
   ]
  },
  {
   "cell_type": "code",
   "execution_count": 46,
   "metadata": {},
   "outputs": [
    {
     "name": "stdout",
     "output_type": "stream",
     "text": [
      "(9944, 2034)\n"
     ]
    }
   ],
   "source": [
    "print (tfidf.shape)"
   ]
  },
  {
   "cell_type": "code",
   "execution_count": 47,
   "metadata": {},
   "outputs": [],
   "source": [
    "X_test = pd.concat([test, tfidf],axis=1)"
   ]
  },
  {
   "cell_type": "code",
   "execution_count": 48,
   "metadata": {},
   "outputs": [],
   "source": [
    "X_test.to_csv(\"../dados/processed_test.csv\", index=False)"
   ]
  },
  {
   "cell_type": "code",
   "execution_count": 49,
   "metadata": {},
   "outputs": [
    {
     "name": "stderr",
     "output_type": "stream",
     "text": [
      "C:\\Users\\vivia\\Anaconda3\\lib\\site-packages\\sklearn\\preprocessing\\data.py:625: DataConversionWarning: Data with input dtype int64, float64 were all converted to float64 by StandardScaler.\n",
      "  return self.partial_fit(X, y)\n",
      "C:\\Users\\vivia\\Anaconda3\\lib\\site-packages\\ipykernel_launcher.py:2: DataConversionWarning: Data with input dtype int64, float64 were all converted to float64 by StandardScaler.\n",
      "  \n"
     ]
    }
   ],
   "source": [
    "scaler.fit(pd.concat([test['ingredients_qtt'], tfidf],axis=1))\n",
    "X_test_scaled = scaler.transform(pd.concat([test['ingredients_qtt'], tfidf],axis=1))"
   ]
  },
  {
   "cell_type": "code",
   "execution_count": 51,
   "metadata": {},
   "outputs": [],
   "source": [
    "X_test_scaled = pd.concat([test, pd.DataFrame(X_test_scaled)],axis=1)"
   ]
  },
  {
   "cell_type": "code",
   "execution_count": 52,
   "metadata": {},
   "outputs": [],
   "source": [
    "X_test_scaled.to_csv(\"../dados/processed_test_scaled.csv\", index=False)"
   ]
  }
 ],
 "metadata": {
  "kernelspec": {
   "display_name": "Python 3",
   "language": "python",
   "name": "python3"
  },
  "language_info": {
   "codemirror_mode": {
    "name": "ipython",
    "version": 3
   },
   "file_extension": ".py",
   "mimetype": "text/x-python",
   "name": "python",
   "nbconvert_exporter": "python",
   "pygments_lexer": "ipython3",
   "version": "3.7.1"
  }
 },
 "nbformat": 4,
 "nbformat_minor": 2
}
