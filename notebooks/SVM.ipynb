{
 "cells": [
  {
   "cell_type": "markdown",
   "metadata": {},
   "source": [
    "# Modelo C - SVM"
   ]
  },
  {
   "cell_type": "markdown",
   "metadata": {},
   "source": [
    "Este notebook contém a modelagem e a avaliação do modelo A, que utiliza uma regressão logística."
   ]
  },
  {
   "cell_type": "markdown",
   "metadata": {},
   "source": [
    "### Imports"
   ]
  },
  {
   "cell_type": "markdown",
   "metadata": {},
   "source": [
    "#### Importação das bibliotecas utilizadas"
   ]
  },
  {
   "cell_type": "code",
   "execution_count": 1,
   "metadata": {},
   "outputs": [],
   "source": [
    "import pandas as pd\n",
    "from sklearn.preprocessing import LabelEncoder\n",
    "from sklearn.svm import SVC\n",
    "from sklearn.multiclass import OneVsRestClassifier\n",
    "import pickle"
   ]
  },
  {
   "cell_type": "markdown",
   "metadata": {},
   "source": [
    "#### Importação do conjunto de treinamento e teste"
   ]
  },
  {
   "cell_type": "markdown",
   "metadata": {},
   "source": [
    "O conjuntos de treinamento e de teste estão em formato JSON, portando é necessário usar a função __read_json__ do pandas para realizar a leitura dos arquivos:"
   ]
  },
  {
   "cell_type": "code",
   "execution_count": 2,
   "metadata": {},
   "outputs": [],
   "source": [
    "train = pd.read_csv('../dados/train/processed_train_scaled.csv', encoding='utf-8')\n",
    "train_target = pd.read_csv('../dados/train/train_target.csv', encoding='utf-8')\n",
    "test = pd.read_csv('../dados/test/processed_test_scaled.csv', encoding='utf-8')"
   ]
  },
  {
   "cell_type": "code",
   "execution_count": 3,
   "metadata": {},
   "outputs": [
    {
     "data": {
      "text/html": [
       "<div>\n",
       "<style scoped>\n",
       "    .dataframe tbody tr th:only-of-type {\n",
       "        vertical-align: middle;\n",
       "    }\n",
       "\n",
       "    .dataframe tbody tr th {\n",
       "        vertical-align: top;\n",
       "    }\n",
       "\n",
       "    .dataframe thead th {\n",
       "        text-align: right;\n",
       "    }\n",
       "</style>\n",
       "<table border=\"1\" class=\"dataframe\">\n",
       "  <thead>\n",
       "    <tr style=\"text-align: right;\">\n",
       "      <th></th>\n",
       "      <th>cuisine</th>\n",
       "      <th>id</th>\n",
       "      <th>ingredients</th>\n",
       "      <th>ingredients_text</th>\n",
       "      <th>ingredients_qtt</th>\n",
       "      <th>0</th>\n",
       "      <th>1</th>\n",
       "      <th>2</th>\n",
       "      <th>3</th>\n",
       "      <th>4</th>\n",
       "      <th>...</th>\n",
       "      <th>2721</th>\n",
       "      <th>2722</th>\n",
       "      <th>2723</th>\n",
       "      <th>2724</th>\n",
       "      <th>2725</th>\n",
       "      <th>2726</th>\n",
       "      <th>2727</th>\n",
       "      <th>2728</th>\n",
       "      <th>2729</th>\n",
       "      <th>2730</th>\n",
       "    </tr>\n",
       "  </thead>\n",
       "  <tbody>\n",
       "    <tr>\n",
       "      <th>0</th>\n",
       "      <td>greek</td>\n",
       "      <td>10259</td>\n",
       "      <td>['romaine lettuce', 'seasoning', 'grape tomato...</td>\n",
       "      <td>romaine lettuce seasoning grape tomato purple ...</td>\n",
       "      <td>9</td>\n",
       "      <td>-0.400044</td>\n",
       "      <td>-0.007086</td>\n",
       "      <td>-0.00502</td>\n",
       "      <td>-0.00502</td>\n",
       "      <td>-0.009889</td>\n",
       "      <td>...</td>\n",
       "      <td>-0.007019</td>\n",
       "      <td>-0.007093</td>\n",
       "      <td>-0.00502</td>\n",
       "      <td>-0.00502</td>\n",
       "      <td>-0.007095</td>\n",
       "      <td>-0.144463</td>\n",
       "      <td>-0.023507</td>\n",
       "      <td>-0.016558</td>\n",
       "      <td>-0.030612</td>\n",
       "      <td>-0.150551</td>\n",
       "    </tr>\n",
       "    <tr>\n",
       "      <th>1</th>\n",
       "      <td>southern_us</td>\n",
       "      <td>25693</td>\n",
       "      <td>['milk', 'ground pepper', 'thyme', 'salt', 'gr...</td>\n",
       "      <td>milk ground pepper thyme salt ground black pep...</td>\n",
       "      <td>11</td>\n",
       "      <td>0.051786</td>\n",
       "      <td>-0.007086</td>\n",
       "      <td>-0.00502</td>\n",
       "      <td>-0.00502</td>\n",
       "      <td>-0.009889</td>\n",
       "      <td>...</td>\n",
       "      <td>-0.007019</td>\n",
       "      <td>-0.007093</td>\n",
       "      <td>-0.00502</td>\n",
       "      <td>-0.00502</td>\n",
       "      <td>-0.007095</td>\n",
       "      <td>-0.144463</td>\n",
       "      <td>-0.023507</td>\n",
       "      <td>-0.016558</td>\n",
       "      <td>-0.030612</td>\n",
       "      <td>-0.150551</td>\n",
       "    </tr>\n",
       "  </tbody>\n",
       "</table>\n",
       "<p>2 rows × 2736 columns</p>\n",
       "</div>"
      ],
      "text/plain": [
       "       cuisine     id                                        ingredients  \\\n",
       "0        greek  10259  ['romaine lettuce', 'seasoning', 'grape tomato...   \n",
       "1  southern_us  25693  ['milk', 'ground pepper', 'thyme', 'salt', 'gr...   \n",
       "\n",
       "                                    ingredients_text  ingredients_qtt  \\\n",
       "0  romaine lettuce seasoning grape tomato purple ...                9   \n",
       "1  milk ground pepper thyme salt ground black pep...               11   \n",
       "\n",
       "          0         1        2        3         4  ...      2721      2722  \\\n",
       "0 -0.400044 -0.007086 -0.00502 -0.00502 -0.009889  ... -0.007019 -0.007093   \n",
       "1  0.051786 -0.007086 -0.00502 -0.00502 -0.009889  ... -0.007019 -0.007093   \n",
       "\n",
       "      2723     2724      2725      2726      2727      2728      2729  \\\n",
       "0 -0.00502 -0.00502 -0.007095 -0.144463 -0.023507 -0.016558 -0.030612   \n",
       "1 -0.00502 -0.00502 -0.007095 -0.144463 -0.023507 -0.016558 -0.030612   \n",
       "\n",
       "       2730  \n",
       "0 -0.150551  \n",
       "1 -0.150551  \n",
       "\n",
       "[2 rows x 2736 columns]"
      ]
     },
     "execution_count": 3,
     "metadata": {},
     "output_type": "execute_result"
    }
   ],
   "source": [
    "# visualização das cinco primeira receitas presentes no conjunto de treino\n",
    "train.head(2)"
   ]
  },
  {
   "cell_type": "markdown",
   "metadata": {},
   "source": [
    "### Modelagem\n",
    "\n",
    "Os seguintes tratamentos serão realizados nos dois conjuntos de dados:"
   ]
  },
  {
   "cell_type": "code",
   "execution_count": 4,
   "metadata": {},
   "outputs": [],
   "source": [
    "X_train = train.copy()\n",
    "X_train = X_train.drop(['cuisine','id','ingredients','ingredients_text','ingredients_qtt'], axis=1)"
   ]
  },
  {
   "cell_type": "code",
   "execution_count": 5,
   "metadata": {},
   "outputs": [
    {
     "data": {
      "text/html": [
       "<div>\n",
       "<style scoped>\n",
       "    .dataframe tbody tr th:only-of-type {\n",
       "        vertical-align: middle;\n",
       "    }\n",
       "\n",
       "    .dataframe tbody tr th {\n",
       "        vertical-align: top;\n",
       "    }\n",
       "\n",
       "    .dataframe thead th {\n",
       "        text-align: right;\n",
       "    }\n",
       "</style>\n",
       "<table border=\"1\" class=\"dataframe\">\n",
       "  <thead>\n",
       "    <tr style=\"text-align: right;\">\n",
       "      <th></th>\n",
       "      <th>0</th>\n",
       "      <th>1</th>\n",
       "      <th>2</th>\n",
       "      <th>3</th>\n",
       "      <th>4</th>\n",
       "      <th>5</th>\n",
       "      <th>6</th>\n",
       "      <th>7</th>\n",
       "      <th>8</th>\n",
       "      <th>9</th>\n",
       "      <th>...</th>\n",
       "      <th>2721</th>\n",
       "      <th>2722</th>\n",
       "      <th>2723</th>\n",
       "      <th>2724</th>\n",
       "      <th>2725</th>\n",
       "      <th>2726</th>\n",
       "      <th>2727</th>\n",
       "      <th>2728</th>\n",
       "      <th>2729</th>\n",
       "      <th>2730</th>\n",
       "    </tr>\n",
       "  </thead>\n",
       "  <tbody>\n",
       "    <tr>\n",
       "      <th>0</th>\n",
       "      <td>-0.400044</td>\n",
       "      <td>-0.007086</td>\n",
       "      <td>-0.00502</td>\n",
       "      <td>-0.00502</td>\n",
       "      <td>-0.009889</td>\n",
       "      <td>-0.024161</td>\n",
       "      <td>-0.014036</td>\n",
       "      <td>-0.00502</td>\n",
       "      <td>-0.02375</td>\n",
       "      <td>-0.012196</td>\n",
       "      <td>...</td>\n",
       "      <td>-0.007019</td>\n",
       "      <td>-0.007093</td>\n",
       "      <td>-0.00502</td>\n",
       "      <td>-0.00502</td>\n",
       "      <td>-0.007095</td>\n",
       "      <td>-0.144463</td>\n",
       "      <td>-0.023507</td>\n",
       "      <td>-0.016558</td>\n",
       "      <td>-0.030612</td>\n",
       "      <td>-0.150551</td>\n",
       "    </tr>\n",
       "    <tr>\n",
       "      <th>1</th>\n",
       "      <td>0.051786</td>\n",
       "      <td>-0.007086</td>\n",
       "      <td>-0.00502</td>\n",
       "      <td>-0.00502</td>\n",
       "      <td>-0.009889</td>\n",
       "      <td>-0.024161</td>\n",
       "      <td>-0.014036</td>\n",
       "      <td>-0.00502</td>\n",
       "      <td>-0.02375</td>\n",
       "      <td>-0.012196</td>\n",
       "      <td>...</td>\n",
       "      <td>-0.007019</td>\n",
       "      <td>-0.007093</td>\n",
       "      <td>-0.00502</td>\n",
       "      <td>-0.00502</td>\n",
       "      <td>-0.007095</td>\n",
       "      <td>-0.144463</td>\n",
       "      <td>-0.023507</td>\n",
       "      <td>-0.016558</td>\n",
       "      <td>-0.030612</td>\n",
       "      <td>-0.150551</td>\n",
       "    </tr>\n",
       "    <tr>\n",
       "      <th>2</th>\n",
       "      <td>0.277700</td>\n",
       "      <td>-0.007086</td>\n",
       "      <td>-0.00502</td>\n",
       "      <td>-0.00502</td>\n",
       "      <td>-0.009889</td>\n",
       "      <td>-0.024161</td>\n",
       "      <td>-0.014036</td>\n",
       "      <td>-0.00502</td>\n",
       "      <td>-0.02375</td>\n",
       "      <td>-0.012196</td>\n",
       "      <td>...</td>\n",
       "      <td>-0.007019</td>\n",
       "      <td>-0.007093</td>\n",
       "      <td>-0.00502</td>\n",
       "      <td>-0.00502</td>\n",
       "      <td>-0.007095</td>\n",
       "      <td>-0.144463</td>\n",
       "      <td>-0.023507</td>\n",
       "      <td>-0.016558</td>\n",
       "      <td>-0.030612</td>\n",
       "      <td>-0.150551</td>\n",
       "    </tr>\n",
       "    <tr>\n",
       "      <th>3</th>\n",
       "      <td>-1.529619</td>\n",
       "      <td>-0.007086</td>\n",
       "      <td>-0.00502</td>\n",
       "      <td>-0.00502</td>\n",
       "      <td>-0.009889</td>\n",
       "      <td>-0.024161</td>\n",
       "      <td>-0.014036</td>\n",
       "      <td>-0.00502</td>\n",
       "      <td>-0.02375</td>\n",
       "      <td>-0.012196</td>\n",
       "      <td>...</td>\n",
       "      <td>-0.007019</td>\n",
       "      <td>-0.007093</td>\n",
       "      <td>-0.00502</td>\n",
       "      <td>-0.00502</td>\n",
       "      <td>-0.007095</td>\n",
       "      <td>-0.144463</td>\n",
       "      <td>-0.023507</td>\n",
       "      <td>-0.016558</td>\n",
       "      <td>-0.030612</td>\n",
       "      <td>-0.150551</td>\n",
       "    </tr>\n",
       "    <tr>\n",
       "      <th>4</th>\n",
       "      <td>2.085020</td>\n",
       "      <td>-0.007086</td>\n",
       "      <td>-0.00502</td>\n",
       "      <td>-0.00502</td>\n",
       "      <td>-0.009889</td>\n",
       "      <td>-0.024161</td>\n",
       "      <td>-0.014036</td>\n",
       "      <td>-0.00502</td>\n",
       "      <td>-0.02375</td>\n",
       "      <td>-0.012196</td>\n",
       "      <td>...</td>\n",
       "      <td>-0.007019</td>\n",
       "      <td>-0.007093</td>\n",
       "      <td>-0.00502</td>\n",
       "      <td>-0.00502</td>\n",
       "      <td>-0.007095</td>\n",
       "      <td>-0.144463</td>\n",
       "      <td>-0.023507</td>\n",
       "      <td>-0.016558</td>\n",
       "      <td>-0.030612</td>\n",
       "      <td>-0.150551</td>\n",
       "    </tr>\n",
       "  </tbody>\n",
       "</table>\n",
       "<p>5 rows × 2731 columns</p>\n",
       "</div>"
      ],
      "text/plain": [
       "          0         1        2        3         4         5         6  \\\n",
       "0 -0.400044 -0.007086 -0.00502 -0.00502 -0.009889 -0.024161 -0.014036   \n",
       "1  0.051786 -0.007086 -0.00502 -0.00502 -0.009889 -0.024161 -0.014036   \n",
       "2  0.277700 -0.007086 -0.00502 -0.00502 -0.009889 -0.024161 -0.014036   \n",
       "3 -1.529619 -0.007086 -0.00502 -0.00502 -0.009889 -0.024161 -0.014036   \n",
       "4  2.085020 -0.007086 -0.00502 -0.00502 -0.009889 -0.024161 -0.014036   \n",
       "\n",
       "         7        8         9  ...      2721      2722     2723     2724  \\\n",
       "0 -0.00502 -0.02375 -0.012196  ... -0.007019 -0.007093 -0.00502 -0.00502   \n",
       "1 -0.00502 -0.02375 -0.012196  ... -0.007019 -0.007093 -0.00502 -0.00502   \n",
       "2 -0.00502 -0.02375 -0.012196  ... -0.007019 -0.007093 -0.00502 -0.00502   \n",
       "3 -0.00502 -0.02375 -0.012196  ... -0.007019 -0.007093 -0.00502 -0.00502   \n",
       "4 -0.00502 -0.02375 -0.012196  ... -0.007019 -0.007093 -0.00502 -0.00502   \n",
       "\n",
       "       2725      2726      2727      2728      2729      2730  \n",
       "0 -0.007095 -0.144463 -0.023507 -0.016558 -0.030612 -0.150551  \n",
       "1 -0.007095 -0.144463 -0.023507 -0.016558 -0.030612 -0.150551  \n",
       "2 -0.007095 -0.144463 -0.023507 -0.016558 -0.030612 -0.150551  \n",
       "3 -0.007095 -0.144463 -0.023507 -0.016558 -0.030612 -0.150551  \n",
       "4 -0.007095 -0.144463 -0.023507 -0.016558 -0.030612 -0.150551  \n",
       "\n",
       "[5 rows x 2731 columns]"
      ]
     },
     "execution_count": 5,
     "metadata": {},
     "output_type": "execute_result"
    }
   ],
   "source": [
    "X_train.head()"
   ]
  },
  {
   "cell_type": "code",
   "execution_count": 6,
   "metadata": {},
   "outputs": [],
   "source": [
    "svm = SVC(random_state=42) #, multi_class='ovr'"
   ]
  },
  {
   "cell_type": "code",
   "execution_count": 7,
   "metadata": {},
   "outputs": [
    {
     "data": {
      "text/plain": [
       "OneVsRestClassifier(estimator=SVC(C=1.0, cache_size=200, class_weight=None, coef0=0.0,\n",
       "  decision_function_shape='ovr', degree=3, gamma='auto_deprecated',\n",
       "  kernel='rbf', max_iter=-1, probability=False, random_state=42,\n",
       "  shrinking=True, tol=0.001, verbose=False),\n",
       "          n_jobs=1)"
      ]
     },
     "execution_count": 7,
     "metadata": {},
     "output_type": "execute_result"
    }
   ],
   "source": [
    "model = OneVsRestClassifier(svm, n_jobs=1)\n",
    "model.fit(X_train, train_target)"
   ]
  },
  {
   "cell_type": "code",
   "execution_count": 8,
   "metadata": {},
   "outputs": [],
   "source": [
    "with open('../models/svm.pkl', 'wb') as local_model_file:\n",
    "    pickle.dump(model, local_model_file)"
   ]
  },
  {
   "cell_type": "code",
   "execution_count": 9,
   "metadata": {},
   "outputs": [
    {
     "data": {
      "text/html": [
       "<div>\n",
       "<style scoped>\n",
       "    .dataframe tbody tr th:only-of-type {\n",
       "        vertical-align: middle;\n",
       "    }\n",
       "\n",
       "    .dataframe tbody tr th {\n",
       "        vertical-align: top;\n",
       "    }\n",
       "\n",
       "    .dataframe thead th {\n",
       "        text-align: right;\n",
       "    }\n",
       "</style>\n",
       "<table border=\"1\" class=\"dataframe\">\n",
       "  <thead>\n",
       "    <tr style=\"text-align: right;\">\n",
       "      <th></th>\n",
       "      <th>id</th>\n",
       "      <th>ingredients</th>\n",
       "      <th>ingredients_qtt</th>\n",
       "      <th>ingredients_text</th>\n",
       "      <th>0</th>\n",
       "      <th>1</th>\n",
       "      <th>2</th>\n",
       "      <th>3</th>\n",
       "      <th>4</th>\n",
       "      <th>5</th>\n",
       "      <th>...</th>\n",
       "      <th>2721</th>\n",
       "      <th>2722</th>\n",
       "      <th>2723</th>\n",
       "      <th>2724</th>\n",
       "      <th>2725</th>\n",
       "      <th>2726</th>\n",
       "      <th>2727</th>\n",
       "      <th>2728</th>\n",
       "      <th>2729</th>\n",
       "      <th>2730</th>\n",
       "    </tr>\n",
       "  </thead>\n",
       "  <tbody>\n",
       "    <tr>\n",
       "      <th>0</th>\n",
       "      <td>18009</td>\n",
       "      <td>['milk', 'baking powder', 'white sugar', 'rais...</td>\n",
       "      <td>6</td>\n",
       "      <td>milk baking powder white sugar raisin egg purp...</td>\n",
       "      <td>-1.074579</td>\n",
       "      <td>0.0</td>\n",
       "      <td>0.0</td>\n",
       "      <td>0.0</td>\n",
       "      <td>0.0</td>\n",
       "      <td>-0.025188</td>\n",
       "      <td>...</td>\n",
       "      <td>0.0</td>\n",
       "      <td>-0.010029</td>\n",
       "      <td>0.0</td>\n",
       "      <td>0.0</td>\n",
       "      <td>0.0</td>\n",
       "      <td>-0.150647</td>\n",
       "      <td>-0.017092</td>\n",
       "      <td>-0.013905</td>\n",
       "      <td>-0.035812</td>\n",
       "      <td>-0.14673</td>\n",
       "    </tr>\n",
       "    <tr>\n",
       "      <th>1</th>\n",
       "      <td>28583</td>\n",
       "      <td>['milk', 'toasted pecan', 'banana', 'vanilla e...</td>\n",
       "      <td>11</td>\n",
       "      <td>milk toasted pecan banana vanilla extract corn...</td>\n",
       "      <td>0.044849</td>\n",
       "      <td>0.0</td>\n",
       "      <td>0.0</td>\n",
       "      <td>0.0</td>\n",
       "      <td>0.0</td>\n",
       "      <td>-0.025188</td>\n",
       "      <td>...</td>\n",
       "      <td>0.0</td>\n",
       "      <td>-0.010029</td>\n",
       "      <td>0.0</td>\n",
       "      <td>0.0</td>\n",
       "      <td>0.0</td>\n",
       "      <td>-0.150647</td>\n",
       "      <td>-0.017092</td>\n",
       "      <td>-0.013905</td>\n",
       "      <td>-0.035812</td>\n",
       "      <td>-0.14673</td>\n",
       "    </tr>\n",
       "  </tbody>\n",
       "</table>\n",
       "<p>2 rows × 2735 columns</p>\n",
       "</div>"
      ],
      "text/plain": [
       "      id                                        ingredients  ingredients_qtt  \\\n",
       "0  18009  ['milk', 'baking powder', 'white sugar', 'rais...                6   \n",
       "1  28583  ['milk', 'toasted pecan', 'banana', 'vanilla e...               11   \n",
       "\n",
       "                                    ingredients_text         0    1    2    3  \\\n",
       "0  milk baking powder white sugar raisin egg purp... -1.074579  0.0  0.0  0.0   \n",
       "1  milk toasted pecan banana vanilla extract corn...  0.044849  0.0  0.0  0.0   \n",
       "\n",
       "     4         5  ...  2721      2722  2723  2724  2725      2726      2727  \\\n",
       "0  0.0 -0.025188  ...   0.0 -0.010029   0.0   0.0   0.0 -0.150647 -0.017092   \n",
       "1  0.0 -0.025188  ...   0.0 -0.010029   0.0   0.0   0.0 -0.150647 -0.017092   \n",
       "\n",
       "       2728      2729     2730  \n",
       "0 -0.013905 -0.035812 -0.14673  \n",
       "1 -0.013905 -0.035812 -0.14673  \n",
       "\n",
       "[2 rows x 2735 columns]"
      ]
     },
     "execution_count": 9,
     "metadata": {},
     "output_type": "execute_result"
    }
   ],
   "source": [
    "test.head(2)"
   ]
  },
  {
   "cell_type": "code",
   "execution_count": 10,
   "metadata": {},
   "outputs": [],
   "source": [
    "X_test = test.copy()\n",
    "X_test = X_test.drop(['id','ingredients','ingredients_text','ingredients_qtt'], axis=1)"
   ]
  },
  {
   "cell_type": "code",
   "execution_count": 11,
   "metadata": {},
   "outputs": [],
   "source": [
    "y_pred_test = model.predict(X_test)"
   ]
  },
  {
   "cell_type": "code",
   "execution_count": 12,
   "metadata": {},
   "outputs": [],
   "source": [
    "encoder = LabelEncoder()\n",
    "classes = encoder.fit_transform(train.cuisine)"
   ]
  },
  {
   "cell_type": "code",
   "execution_count": 13,
   "metadata": {},
   "outputs": [
    {
     "data": {
      "text/plain": [
       "array([ 6, 16,  4, ...,  8,  3, 13])"
      ]
     },
     "execution_count": 13,
     "metadata": {},
     "output_type": "execute_result"
    }
   ],
   "source": [
    "classes"
   ]
  },
  {
   "cell_type": "code",
   "execution_count": 14,
   "metadata": {},
   "outputs": [
    {
     "data": {
      "text/plain": [
       "array([ 8, 16,  9, ...,  9, 16, 13])"
      ]
     },
     "execution_count": 14,
     "metadata": {},
     "output_type": "execute_result"
    }
   ],
   "source": [
    "y_pred_test"
   ]
  },
  {
   "cell_type": "code",
   "execution_count": 15,
   "metadata": {},
   "outputs": [],
   "source": [
    "encoder = LabelEncoder()\n",
    "classes = encoder.fit_transform(train.cuisine)"
   ]
  },
  {
   "cell_type": "code",
   "execution_count": 16,
   "metadata": {},
   "outputs": [
    {
     "data": {
      "text/plain": [
       "[('brazilian', 0),\n",
       " ('british', 1),\n",
       " ('cajun_creole', 2),\n",
       " ('chinese', 3),\n",
       " ('filipino', 4),\n",
       " ('french', 5),\n",
       " ('greek', 6),\n",
       " ('indian', 7),\n",
       " ('irish', 8),\n",
       " ('italian', 9),\n",
       " ('jamaican', 10),\n",
       " ('japanese', 11),\n",
       " ('korean', 12),\n",
       " ('mexican', 13),\n",
       " ('moroccan', 14),\n",
       " ('russian', 15),\n",
       " ('southern_us', 16),\n",
       " ('spanish', 17),\n",
       " ('thai', 18),\n",
       " ('vietnamese', 19)]"
      ]
     },
     "execution_count": 16,
     "metadata": {},
     "output_type": "execute_result"
    }
   ],
   "source": [
    "list(zip(encoder.classes_, encoder.transform(encoder.classes_)))"
   ]
  },
  {
   "cell_type": "code",
   "execution_count": 17,
   "metadata": {},
   "outputs": [],
   "source": [
    "y_test_decoded = encoder.inverse_transform(y_pred_test)"
   ]
  },
  {
   "cell_type": "code",
   "execution_count": 18,
   "metadata": {},
   "outputs": [],
   "source": [
    "submission = pd.concat([test['id'],pd.DataFrame(y_test_decoded, columns=[ 'cuisine'])], axis=1)"
   ]
  },
  {
   "cell_type": "code",
   "execution_count": 19,
   "metadata": {},
   "outputs": [],
   "source": [
    "submission.to_csv(\"../dados/test/submission_svm.csv\", index=False)"
   ]
  }
 ],
 "metadata": {
  "kernelspec": {
   "display_name": "Python 3",
   "language": "python",
   "name": "python3"
  },
  "language_info": {
   "codemirror_mode": {
    "name": "ipython",
    "version": 3
   },
   "file_extension": ".py",
   "mimetype": "text/x-python",
   "name": "python",
   "nbconvert_exporter": "python",
   "pygments_lexer": "ipython3",
   "version": "3.7.1"
  }
 },
 "nbformat": 4,
 "nbformat_minor": 2
}
